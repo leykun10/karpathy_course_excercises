{
  "nbformat": 4,
  "nbformat_minor": 0,
  "metadata": {
    "colab": {
      "provenance": []
    },
    "kernelspec": {
      "name": "python3",
      "display_name": "Python 3"
    },
    "language_info": {
      "name": "python"
    }
  },
  "cells": [
    {
      "cell_type": "code",
      "execution_count": 596,
      "metadata": {
        "id": "I6GxH5PBNpMy"
      },
      "outputs": [],
      "source": [
        "import math\n",
        "class LKTensor:\n",
        "    def __init__(self,data,_children=(),_op=''):\n",
        "        self.data =data\n",
        "        self.grad=0\n",
        "        self.leaf=True,\n",
        "        self._prev=set(_children)\n",
        "        self._op = _op\n",
        "\n",
        "\n",
        "\n",
        "    def __repr__(self):\n",
        "        return 'LKTensor( data:{data}, grad:{grad})'.format(data=self.data,grad=self.grad)\n",
        "\n",
        "    def __add__(self,other):\n",
        "        other = other if isinstance(other,LKTensor) else LKTensor(other)\n",
        "        out=LKTensor(self.data+other.data,(self,other),'+')\n",
        "\n",
        "        def _backward():\n",
        "            self.grad+=out.grad\n",
        "            other.grad+=out.grad\n",
        "        out._backward=_backward\n",
        "        out.leaf=False\n",
        "        return out\n",
        "    def __mul__(self,other):\n",
        "        other = other if isinstance(other,LKTensor) else LKTensor(other)\n",
        "        out=LKTensor(self.data*other.data,(self,other),'*')\n",
        "        \n",
        "        def _backward():\n",
        "            self.grad+=out.grad*other.data\n",
        "            other.grad+=out.grad*self.data\n",
        "        out._backward=_backward\n",
        "        out.leaf=False\n",
        "        return out\n",
        "    def __pow__(self,other):\n",
        "        assert isinstance(other,(int,float)),'only float and int are supported'\n",
        "        out = LKTensor(self.data**other,(self,),f'**{other}')\n",
        "\n",
        "        def _backward():\n",
        "            self.grad+=other*(self.data*(other-1))\n",
        "        out._backward=_backward\n",
        "        out.leaf=False\n",
        "        return out\n",
        "    \n",
        "    def tanh(self):\n",
        "        val = (math.exp(2*self.data)+1)/(math.exp(2*self.data)-1)\n",
        "        out = LKTensor(val,(self,),'tanh')\n",
        "\n",
        "        def _backward():\n",
        "            self.grad+=(1-val**2)*out.grad\n",
        "        out._backward=_backward\n",
        "        out.leaf=False\n",
        "        return out\n",
        "        \n",
        "    \n",
        "    def relu(self):\n",
        "        out = LKTensor(0 if self.data<0 else self.data,(self,),'relu')\n",
        "        def _backward():\n",
        "            self.grad+=(out.data > 0)*out.grad     \n",
        "        out._backward = _backward\n",
        "        out.leaf=False\n",
        "\n",
        "        return out\n",
        "\n",
        "\n",
        "    def __rpow__(self,other):\n",
        "\n",
        "        return LKTensor(other**self.data)\n",
        "\n",
        "    def __neg__(self):\n",
        "        return self * -1\n",
        "\n",
        "\n",
        "    def __sub__(self, other):\n",
        "        return self + (-other)\n",
        "\n",
        "    def __radd__(self,other):\n",
        "        return self+other\n",
        "\n",
        "    def __rmul__(self,other):\n",
        "\n",
        "        return self*other\n",
        "    \n",
        "    def __rsub__(self,other):\n",
        "\n",
        "        return other + (-self)\n",
        "\n",
        "    def __truediv__(self, other):\n",
        "        return self * other**-1\n",
        "\n",
        "    def __rtruediv__(self, other):\n",
        "        return other * self**-1\n",
        "\n",
        "        \n",
        "    def backward(self):\n",
        "\n",
        "        topo=[]\n",
        "        visited = set()\n",
        "\n",
        "        def build_graph(node):\n",
        "            if node not in visited:\n",
        "                visited.add(node)\n",
        "                \n",
        "                for child in node._prev:\n",
        "                    build_graph(child)\n",
        "                \n",
        "                topo.append(node)\n",
        "        \n",
        "        build_graph(self)\n",
        "        self.grad=1\n",
        "        for node in reversed(topo):\n",
        "            if node.leaf:\n",
        "                return\n",
        "            node._backward()\n",
        "\n",
        "                \n",
        "                    \n",
        "\n",
        "\n",
        "\n",
        "\n",
        "    "
      ]
    },
    {
      "cell_type": "code",
      "source": [
        "import random\n",
        "class Neuron:\n",
        "\n",
        "    def __init__(self,input_size,non_linear=True):\n",
        "        self.weights = [LKTensor(random.uniform(-1,1)) for _ in range(input_size)]\n",
        "        self.bias = LKTensor(0)\n",
        "        self.non_linear=non_linear\n",
        "\n",
        "    def __call__(self,input):\n",
        "        z = sum((wi*xi for wi,xi in zip(self.weights,input)),self.bias)\n",
        "        self.y = z.tanh() if self.non_linear else z\n",
        "        return self.y\n",
        "\n",
        "    def parameters(self):\n",
        "        return self.weights+[self.bias]\n",
        "\n",
        "    def zero_grad(self):\n",
        "        for val in self.parameters():\n",
        "            val.grad=0\n",
        "    \n",
        "    def __repr__(self):\n",
        "\n",
        "        return f\"{'Relu' if self.non_linear else 'Linear'} Neuron ({len(self.weights)})\"\n",
        "\n",
        "    \n"
      ],
      "metadata": {
        "id": "W2VTSuYcqQPN"
      },
      "execution_count": 1,
      "outputs": []
    },
    {
      "cell_type": "code",
      "source": [],
      "metadata": {
        "id": "ieDvp0v5MUBK"
      },
      "execution_count": 607,
      "outputs": []
    },
    {
      "cell_type": "code",
      "source": [
        "x=LKTensor(-6)\n",
        "val = x.tanh()"
      ],
      "metadata": {
        "id": "Mv5xcXsRKS1u"
      },
      "execution_count": 608,
      "outputs": []
    },
    {
      "cell_type": "code",
      "source": [],
      "metadata": {
        "id": "74qukiJMM41I"
      },
      "execution_count": 608,
      "outputs": []
    },
    {
      "cell_type": "code",
      "source": [],
      "metadata": {
        "id": "6yhIaTL_NAjY"
      },
      "execution_count": 608,
      "outputs": []
    },
    {
      "cell_type": "code",
      "source": [
        "class Layer:\n",
        "    def __init__(self,input_size,output_size,**kwargs):\n",
        "        self.neurons = [Neuron(input_size,**kwargs) for _ in range(output_size)]\n",
        "\n",
        "    def __call__(self,inputs):\n",
        "        out = [neuron(inputs) for neuron in self.neurons]\n",
        "        return out[0] if len(out) == 1 else out\n",
        "    def parameters(self):\n",
        "        return [p for neuron in self.neurons for p in neuron.parameters()]\n",
        "\n",
        "    def __repr__(self):\n",
        "        return f\"Layer of {[', '.join(str(n) for n in self.neurons)]}\"\n",
        "\n"
      ],
      "metadata": {
        "id": "n-gfJ90r2j0R"
      },
      "execution_count": 609,
      "outputs": []
    },
    {
      "cell_type": "code",
      "source": [],
      "metadata": {
        "id": "5wONjMJNM4Pc"
      },
      "execution_count": 609,
      "outputs": []
    },
    {
      "cell_type": "code",
      "source": [
        "class MLP:\n",
        "\n",
        "    def __init__(self,input_shape,output_shapes,):\n",
        "        sizes = [input_shape]+output_shapes\n",
        "        self.layers = [Layer(sizes[i],sizes[i+1],non_linear=i!=len(output_shapes)-1) for i in range(len(output_shapes))]\n",
        "    \n",
        "    def __call__(self,input):\n",
        "        \n",
        "        for layer in self.layers:\n",
        "            input = layer(input)\n",
        "        return input\n",
        "    \n",
        "    def parameters(self):\n",
        "\n",
        "        return [parameters for layer in self.layers for parameters in layer.parameters()]\n",
        "\n"
      ],
      "metadata": {
        "id": "HaJu3-mnrY0D"
      },
      "execution_count": 610,
      "outputs": []
    },
    {
      "cell_type": "code",
      "source": [
        "X_test = [[2,3,-1],[3,-1,0.5],[0.5,1,1],[1,1,-1]]\n",
        "Y_test = [1,-1,-1,1]"
      ],
      "metadata": {
        "id": "TdAiS6OaJaEH"
      },
      "execution_count": 611,
      "outputs": []
    },
    {
      "cell_type": "code",
      "source": [
        "mlp=MLP(3,[3,4,10,1])"
      ],
      "metadata": {
        "colab": {
          "base_uri": "https://localhost:8080/"
        },
        "id": "Ta7iNM5YJbPb",
        "outputId": "1f6b4454-3c87-4194-edc8-aeac0e752cbd"
      },
      "execution_count": 620,
      "outputs": [
        {
          "output_type": "stream",
          "name": "stdout",
          "text": [
            "True\n",
            "True\n",
            "True\n",
            "True\n",
            "True\n",
            "True\n",
            "True\n",
            "True\n",
            "True\n",
            "True\n",
            "True\n",
            "True\n",
            "True\n",
            "True\n",
            "True\n",
            "True\n",
            "True\n",
            "False\n"
          ]
        }
      ]
    },
    {
      "cell_type": "code",
      "source": [
        "epoch=10"
      ],
      "metadata": {
        "id": "OXxIJcLEBkTt"
      },
      "execution_count": 621,
      "outputs": []
    },
    {
      "cell_type": "code",
      "source": [
        "for k in range(20):\n",
        "    Y_pred = [mlp(x) for x in X_test]\n",
        "    Loss = sum([(y_pred-y_test)**2 for y_pred,y_test in zip(Y_pred,Y_test)])\n",
        "    losses[str(k)]=Loss\n",
        "    for param in mlp.parameters():\n",
        "        param.grad=0\n",
        "    Loss.backward()\n",
        "    for param in mlp.parameters():\n",
        "        param.data+=(-0.01)*param.grad\n",
        "    print(k,Loss.data)\n",
        "\n"
      ],
      "metadata": {
        "id": "lZRU6uAVBgwe",
        "outputId": "413b05c4-aee6-4163-9732-8bb71bb22f03",
        "colab": {
          "base_uri": "https://localhost:8080/"
        }
      },
      "execution_count": 622,
      "outputs": [
        {
          "output_type": "stream",
          "name": "stdout",
          "text": [
            "0 247.09826528531252\n",
            "1 318.811544427782\n",
            "2 318.811544427782\n",
            "3 96.31330500146564\n",
            "4 96.31330500146564\n",
            "5 96.31330500146564\n",
            "6 61.5946122479764\n",
            "7 46.982774557575084\n",
            "8 41.78076131115663\n",
            "9 76.67453853888613\n",
            "10 29.670619303137997\n",
            "11 22.15833657799411\n",
            "12 22.15833657799411\n",
            "13 22.15833657799411\n",
            "14 17.758183922845117\n",
            "15 17.758183922845117\n",
            "16 9.511816976158963\n",
            "17 9.511816976158963\n",
            "18 6.165823120109595\n",
            "19 6.165823120109595\n"
          ]
        }
      ]
    },
    {
      "cell_type": "code",
      "source": [],
      "metadata": {
        "id": "wih2hti7JcLt"
      },
      "execution_count": 616,
      "outputs": []
    },
    {
      "cell_type": "code",
      "source": [],
      "metadata": {
        "id": "a_7X-Q0xyNb-"
      },
      "execution_count": 465,
      "outputs": []
    },
    {
      "cell_type": "code",
      "source": [],
      "metadata": {
        "id": "2gzIESKJytfl"
      },
      "execution_count": 523,
      "outputs": []
    },
    {
      "cell_type": "code",
      "source": [],
      "metadata": {
        "id": "JHI6obXRyO4B"
      },
      "execution_count": 467,
      "outputs": []
    },
    {
      "cell_type": "code",
      "source": [],
      "metadata": {
        "id": "NgqryPKtyjOY"
      },
      "execution_count": 463,
      "outputs": []
    },
    {
      "cell_type": "code",
      "source": [],
      "metadata": {
        "id": "k9SFu0VT7f8q"
      },
      "execution_count": 456,
      "outputs": []
    }
  ]
}